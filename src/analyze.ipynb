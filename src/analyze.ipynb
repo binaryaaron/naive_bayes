{
 "metadata": {
  "name": "",
  "signature": "sha256:97acc2a7144e7f74bb536837cf3b20b8c48d10aa17d79c1bf20d45fa65b5f166"
 },
 "nbformat": 3,
 "nbformat_minor": 0,
 "worksheets": [
  {
   "cells": [
    {
     "cell_type": "code",
     "collapsed": false,
     "input": [
      "from sklearn.datasets import fetch_20newsgroups\n",
      "import numpy as np\n",
      "import matplotlib.pyplot as plt\n",
      "\n",
      "from sklearn.feature_extraction.text import CountVectorizer\n",
      "from sklearn import metrics\n",
      "from nltk import word_tokenize\n",
      "from nltk.stem import WordNetLemmatizer\n",
      "\n",
      "%load_ext autoreload\n",
      "%autoreload 1\n",
      "%aimport bayes\n",
      "%aimport utils\n",
      "%pylab inline\n",
      "pylab.rcParams['figure.figsize'] = (12.0, 12.0)\n"
     ],
     "language": "python",
     "metadata": {},
     "outputs": [
      {
       "output_type": "stream",
       "stream": "stdout",
       "text": [
        "Populating the interactive namespace from numpy and matplotlib\n"
       ]
      }
     ],
     "prompt_number": 1
    },
    {
     "cell_type": "code",
     "collapsed": false,
     "input": [
      "twenty_train = fetch_20newsgroups(subset='train',\n",
      "                                  #remove=('headers'),\n",
      "                                  shuffle=False)\n",
      "twenty_test = fetch_20newsgroups(subset='test',\n",
      "                                  remove=('headers'),\n",
      "                                  shuffle=False)\n"
     ],
     "language": "python",
     "metadata": {},
     "outputs": [],
     "prompt_number": 2
    },
    {
     "cell_type": "code",
     "collapsed": false,
     "input": [
      "type(twenty_test)\n"
     ],
     "language": "python",
     "metadata": {},
     "outputs": [
      {
       "metadata": {},
       "output_type": "pyout",
       "prompt_number": 3,
       "text": [
        "sklearn.datasets.base.Bunch"
       ]
      }
     ],
     "prompt_number": 3
    },
    {
     "cell_type": "markdown",
     "metadata": {},
     "source": [
      "```{.bash}\n",
      "# -*- sh -*-\n",
      "# one file in sci.crypt is skipped b/c rainbow thinks it isn't text\n",
      "DIR=/afs/csail.mit.edu/group/tml/jrennie/20news-bydate\n",
      "rainbow -i --skip-header --istext-avoid-uuencode --prune-vocab-by-occur-count=2 --no-stoplist $DIR/20news-bydate-{train,test}/*\n",
      "mkdir $DIR/rainbow\n",
      "rainbow --print-matrix=sin > $DIR/rainbow/frequencies\n",
      "cp ~/.rainbow/vocabulary $DIR/rainbow\n",
      "mkdir $DIR/matlab\n",
      "curpwd=`/bin/pwd`\n",
      "cd $DIR/matlab\n",
      "for type in train test; do\n",
      "    echo ../rainbow2matlab.py $type/ $type < ../rainbow/frequencies\n",
      "    ../rainbow2matlab.py $type/ $type < ../rainbow/frequencies\n",
      "done\n",
      "cd $curpwd\n",
      "```"
     ]
    },
    {
     "cell_type": "code",
     "collapsed": false,
     "input": [
      "bow_train, bow_test = bayes.vectorize(twenty_train.data, twenty_test.data)\n",
      "print(bow_train.shape)\n",
      "print(bow_test.shape)"
     ],
     "language": "python",
     "metadata": {},
     "outputs": [
      {
       "output_type": "stream",
       "stream": "stdout",
       "text": [
        "(11314, 15289)\n",
        "(7532, 15289)\n"
       ]
      }
     ],
     "prompt_number": 4
    },
    {
     "cell_type": "code",
     "collapsed": false,
     "input": [
      "# fit bag of words model to the dataset with specified params\n",
      "cv_train = CountVectorizer(\n",
      "                         stop_words='english',\n",
      "                         max_df=.90,\n",
      "                         min_df=10,\n",
      "                         #analyzer='char_wb',\n",
      "                         #ngram_range=(2,2)\n",
      "                         #min_df=1,\n",
      "                         #strip_accents='unicode'\n",
      "                         #token_pattern=r\"\\b[a-z0-9_\\-\\.]+[a-z][a-z0-9_\\-\\.]+\\b\",\n",
      "                         #tokenizer=LemmaTokenizer()\n",
      "                         )\n",
      "bow_train = cv_train.fit_transform(twenty_train.data)\n",
      "bow_test = cv_train.transform(twenty_test.data)\n",
      "print(bow_train.shape)\n",
      "print(bow_test.shape)"
     ],
     "language": "python",
     "metadata": {},
     "outputs": [],
     "prompt_number": 37
    },
    {
     "cell_type": "code",
     "collapsed": false,
     "input": [],
     "language": "python",
     "metadata": {},
     "outputs": [],
     "prompt_number": 29
    },
    {
     "cell_type": "code",
     "collapsed": false,
     "input": [],
     "language": "python",
     "metadata": {},
     "outputs": [],
     "prompt_number": 29
    },
    {
     "cell_type": "code",
     "collapsed": false,
     "input": [],
     "language": "python",
     "metadata": {},
     "outputs": [],
     "prompt_number": 4
    },
    {
     "cell_type": "code",
     "collapsed": false,
     "input": [],
     "language": "python",
     "metadata": {},
     "outputs": [],
     "prompt_number": 29
    },
    {
     "cell_type": "code",
     "collapsed": false,
     "input": [],
     "language": "python",
     "metadata": {},
     "outputs": [],
     "prompt_number": 128
    },
    {
     "cell_type": "code",
     "collapsed": false,
     "input": [
      "class_priors = bayes.phat_class_est(twenty_train.target, \n",
      "                                    twenty_train.target_names, \n",
      "                                    debug=False)\n",
      "\n",
      "phat_words = bayes.phat_word_est(bow_train,\n",
      "                                 labels=twenty_train.target\n",
      "                                 #alpha=1\n",
      "                                 )\n",
      "\n",
      "predicted = bayes.predict(test_data=bow_test,\n",
      "              test_labels=twenty_test.target,\n",
      "              p_classes=class_priors,\n",
      "              p_features=phat_words\n",
      "              )"
     ],
     "language": "python",
     "metadata": {},
     "outputs": [
      {
       "output_type": "stream",
       "stream": "stdout",
       "text": [
        "estimating params with Dirchlet Prior:\n",
        "\t vocabsize = 11314.000000\n",
        "\t beta = 0.000088\n",
        "\t alpha = 1.000088\n",
        "\t denominator = 1.000000\n",
        "log-prob array shape: "
       ]
      },
      {
       "output_type": "stream",
       "stream": "stdout",
       "text": [
        "\n",
        "(15289, 20)\n"
       ]
      }
     ],
     "prompt_number": 6
    },
    {
     "cell_type": "code",
     "collapsed": false,
     "input": [],
     "language": "python",
     "metadata": {},
     "outputs": [
      {
       "metadata": {},
       "output_type": "pyout",
       "prompt_number": 10,
       "text": [
        "array([[  1.9545e-03,   3.5640e-02,   5.1992e-06, ...,   1.2810e-06,\n",
        "          8.0351e-06,   2.7621e-06],\n",
        "       [  2.2150e-02,   1.7820e-02,   5.1992e-06, ...,   1.2810e-06,\n",
        "          9.0910e-01,   2.7621e-06],\n",
        "       [  2.1498e-02,   1.0482e-02,   5.8829e-02, ...,   1.8841e-01,\n",
        "          8.0351e-06,   5.9375e-01],\n",
        "       ..., \n",
        "       [  2.1498e-02,   2.1593e-01,   5.1992e-06, ...,   1.2810e-06,\n",
        "          8.0351e-06,   2.7621e-06],\n",
        "       [  1.8241e-02,   7.3375e-02,   5.1992e-06, ...,   1.2810e-06,\n",
        "          8.0351e-06,   2.7621e-06],\n",
        "       [  2.6059e-03,   1.7820e-02,   5.1992e-06, ...,   1.2810e-06,\n",
        "          8.0351e-06,   2.7621e-06]])"
       ]
      }
     ],
     "prompt_number": 10
    },
    {
     "cell_type": "code",
     "collapsed": false,
     "input": [
      "np.set_printoptions(precision=4)\n",
      "rep = utils.report(predicted, twenty_test.target_names)"
     ],
     "language": "python",
     "metadata": {},
     "outputs": [
      {
       "output_type": "stream",
       "stream": "stdout",
       "text": [
        "                          precision    recall  f1-score   support\n",
        "\n",
        "             alt.atheism       0.86      0.77      0.81       319\n",
        "           comp.graphics       0.61      0.62      0.62       389\n",
        " comp.os.ms-windows.misc       0.67      0.46      0.55       394\n",
        "comp.sys.ibm.pc.hardware       0.64      0.65      0.65       392\n",
        "   comp.sys.mac.hardware       0.83      0.62      0.71       385\n",
        "          comp.windows.x       0.68      0.77      0.72       395\n",
        "            misc.forsale       0.89      0.58      0.70       390\n",
        "               rec.autos       0.87      0.80      0.83       396\n",
        "         rec.motorcycles       0.92      0.89      0.91       398\n",
        "      rec.sport.baseball       0.97      0.81      0.88       397\n",
        "        rec.sport.hockey       0.88      0.97      0.92       399\n",
        "               sci.crypt       0.61      0.95      0.74       396\n",
        "         sci.electronics       0.74      0.54      0.62       393\n",
        "                 sci.med       0.76      0.79      0.78       396\n",
        "               sci.space       0.68      0.89      0.77       394\n",
        "  soc.religion.christian       0.78      0.93      0.85       398\n",
        "      talk.politics.guns       0.69      0.89      0.78       364\n",
        "   talk.politics.mideast       0.84      0.95      0.90       376\n",
        "      talk.politics.misc       0.62      0.65      0.63       310\n",
        "      talk.religion.misc       0.85      0.41      0.56       251\n",
        "\n",
        "             avg / total       0.77      0.76      0.75      7532\n",
        "\n"
       ]
      }
     ],
     "prompt_number": 39
    },
    {
     "cell_type": "code",
     "collapsed": false,
     "input": [],
     "language": "python",
     "metadata": {},
     "outputs": [
      {
       "metadata": {},
       "output_type": "display_data",
       "png": "[encoded data removed]",
       "text": [
        "<matplotlib.figure.Figure at 0x11290fac8>"
       ]
      }
     ],
     "prompt_number": 26
    },
    {
     "cell_type": "code",
     "collapsed": false,
     "input": [],
     "language": "python",
     "metadata": {},
     "outputs": [],
     "prompt_number": 42
    },
    {
     "cell_type": "code",
     "collapsed": false,
     "input": [
      "# without test headers\n",
      "np.set_printoptions(precision=4)\n",
      "rep_no_test_headers = utils.report(predicted, twenty_test.target_names)"
     ],
     "language": "python",
     "metadata": {},
     "outputs": [
      {
       "ename": "NameError",
       "evalue": "name 'predicted' is not defined",
       "output_type": "pyerr",
       "traceback": [
        "\u001b[0;31m---------------------------------------------------------------------------\u001b[0m\n\u001b[0;31mNameError\u001b[0m                                 Traceback (most recent call last)",
        "\u001b[0;32m<ipython-input-4-2b70bc78f1aa>\u001b[0m in \u001b[0;36m<module>\u001b[0;34m()\u001b[0m\n\u001b[1;32m      1\u001b[0m \u001b[0;31m# without test headers\u001b[0m\u001b[0;34m\u001b[0m\u001b[0;34m\u001b[0m\u001b[0m\n\u001b[1;32m      2\u001b[0m \u001b[0mnp\u001b[0m\u001b[0;34m.\u001b[0m\u001b[0mset_printoptions\u001b[0m\u001b[0;34m(\u001b[0m\u001b[0mprecision\u001b[0m\u001b[0;34m=\u001b[0m\u001b[0;36m4\u001b[0m\u001b[0;34m)\u001b[0m\u001b[0;34m\u001b[0m\u001b[0m\n\u001b[0;32m----> 3\u001b[0;31m \u001b[0mrep_no_test_headers\u001b[0m \u001b[0;34m=\u001b[0m \u001b[0mutils\u001b[0m\u001b[0;34m.\u001b[0m\u001b[0mreport\u001b[0m\u001b[0;34m(\u001b[0m\u001b[0mpredicted\u001b[0m\u001b[0;34m,\u001b[0m \u001b[0mtwenty_test\u001b[0m\u001b[0;34m.\u001b[0m\u001b[0mtarget_names\u001b[0m\u001b[0;34m)\u001b[0m\u001b[0;34m\u001b[0m\u001b[0m\n\u001b[0m",
        "\u001b[0;31mNameError\u001b[0m: name 'predicted' is not defined"
       ]
      }
     ],
     "prompt_number": 4
    },
    {
     "cell_type": "code",
     "collapsed": false,
     "input": [],
     "language": "python",
     "metadata": {},
     "outputs": [],
     "prompt_number": 42
    },
    {
     "cell_type": "code",
     "collapsed": false,
     "input": [
      "a, b, c, d = bayes.run_model(twenty_train, twenty_test)"
     ],
     "language": "python",
     "metadata": {},
     "outputs": [
      {
       "output_type": "stream",
       "stream": "stdout",
       "text": [
        "fitting count vectorizers\n",
        "estimating class priors"
       ]
      },
      {
       "output_type": "stream",
       "stream": "stdout",
       "text": [
        "\n",
        "estimating word priors\n",
        "estimating params with Dirchlet Prior:\n",
        "\t vocabsize = 11314.000000\n",
        "\t beta = 0.000088\n",
        "\t alpha = 1.000088\n",
        "\t denominator = 1.000000\n",
        "predicting"
       ]
      },
      {
       "output_type": "stream",
       "stream": "stdout",
       "text": [
        "\n",
        "log-prob array shape: \n",
        "(15289, 20)\n"
       ]
      }
     ],
     "prompt_number": 7
    },
    {
     "cell_type": "code",
     "collapsed": false,
     "input": [
      "print(d)"
     ],
     "language": "python",
     "metadata": {},
     "outputs": [
      {
       "output_type": "stream",
       "stream": "stdout",
       "text": [
        "                          precision    recall  f1-score   support\n",
        "\n",
        "             alt.atheism       0.79      0.70      0.74       319\n",
        "           comp.graphics       0.61      0.58      0.60       389\n",
        " comp.os.ms-windows.misc       0.69      0.44      0.54       394\n",
        "comp.sys.ibm.pc.hardware       0.63      0.66      0.64       392\n",
        "   comp.sys.mac.hardware       0.80      0.55      0.65       385\n",
        "          comp.windows.x       0.64      0.76      0.70       395\n",
        "            misc.forsale       0.90      0.56      0.69       390\n",
        "               rec.autos       0.85      0.77      0.81       396\n",
        "         rec.motorcycles       0.94      0.87      0.90       398\n",
        "      rec.sport.baseball       0.96      0.76      0.85       397\n",
        "        rec.sport.hockey       0.83      0.96      0.89       399\n",
        "               sci.crypt       0.58      0.93      0.71       396\n",
        "         sci.electronics       0.73      0.50      0.59       393\n",
        "                 sci.med       0.76      0.75      0.75       396\n",
        "               sci.space       0.66      0.86      0.74       394\n",
        "  soc.religion.christian       0.71      0.93      0.81       398\n",
        "      talk.politics.guns       0.64      0.84      0.73       364\n",
        "   talk.politics.mideast       0.72      0.92      0.81       376\n",
        "      talk.politics.misc       0.55      0.60      0.57       310\n",
        "      talk.religion.misc       0.82      0.31      0.45       251\n",
        "\n",
        "             avg / total       0.74      0.72      0.72      7532\n",
        "\n"
       ]
      }
     ],
     "prompt_number": 9
    },
    {
     "cell_type": "code",
     "collapsed": false,
     "input": [
      "conf_matrix = metrics.confusion_matrix(predicted[:,0], predicted[:,1])\n",
      "# Compute confusion matrix\n",
      "\n",
      "# Normalize the confusion matrix by row (i.e by the number of samples\n",
      "# in each class)\n",
      "cm_normalized = conf_matrix.astype('float') / conf_matrix.sum(axis=1)[:, np.newaxis]\n",
      "# print('Normalized confusion matrix')\n",
      "plt.figure()\n",
      "utils.plot_confusion_matrix(cm_normalized, \n",
      "                            twenty_train.target_names,\n",
      "                            title='Normalized confusion matrix'\n",
      "                            )\n",
      "\n",
      "plt.show()"
     ],
     "language": "python",
     "metadata": {},
     "outputs": [],
     "prompt_number": 42
    },
    {
     "cell_type": "code",
     "collapsed": false,
     "input": [],
     "language": "python",
     "metadata": {},
     "outputs": [],
     "prompt_number": 42
    },
    {
     "cell_type": "code",
     "collapsed": false,
     "input": [],
     "language": "python",
     "metadata": {},
     "outputs": [],
     "prompt_number": 42
    },
    {
     "cell_type": "code",
     "collapsed": false,
     "input": [
      "vocabs = {}"
     ],
     "language": "python",
     "metadata": {},
     "outputs": [],
     "prompt_number": 55
    },
    {
     "cell_type": "code",
     "collapsed": false,
     "input": [],
     "language": "python",
     "metadata": {},
     "outputs": [],
     "prompt_number": 46
    },
    {
     "cell_type": "code",
     "collapsed": false,
     "input": [],
     "language": "python",
     "metadata": {},
     "outputs": [],
     "prompt_number": 46
    },
    {
     "cell_type": "code",
     "collapsed": false,
     "input": [],
     "language": "python",
     "metadata": {},
     "outputs": []
    }
   ],
   "metadata": {}
  }
 ]
}