{
 "metadata": {
  "name": "",
  "signature": "sha256:c397cf46006f25077e90896b3fb89266e688d023964cab97975783b9427c16b1"
 },
 "nbformat": 3,
 "nbformat_minor": 0,
 "worksheets": [
  {
   "cells": [
    {
     "cell_type": "code",
     "collapsed": false,
     "input": [
      "from sklearn.datasets import fetch_20newsgroups\n",
      "categories = ['alt.atheism', 'soc.religion.christian',\n",
      "               'comp.graphics', 'sci.med']"
     ],
     "language": "python",
     "metadata": {},
     "outputs": [],
     "prompt_number": 40
    },
    {
     "cell_type": "code",
     "collapsed": false,
     "input": [
      "twenty_train = fetch_20newsgroups(subset='train',\n",
      "                                  shuffle=True, random_state=42)"
     ],
     "language": "python",
     "metadata": {},
     "outputs": [],
     "prompt_number": 41
    },
    {
     "cell_type": "code",
     "collapsed": false,
     "input": [],
     "language": "python",
     "metadata": {},
     "outputs": [],
     "prompt_number": 41
    },
    {
     "cell_type": "code",
     "collapsed": false,
     "input": [
      "twenty_train.target_names"
     ],
     "language": "python",
     "metadata": {},
     "outputs": [
      {
       "metadata": {},
       "output_type": "pyout",
       "prompt_number": 42,
       "text": [
        "['alt.atheism',\n",
        " 'comp.graphics',\n",
        " 'comp.os.ms-windows.misc',\n",
        " 'comp.sys.ibm.pc.hardware',\n",
        " 'comp.sys.mac.hardware',\n",
        " 'comp.windows.x',\n",
        " 'misc.forsale',\n",
        " 'rec.autos',\n",
        " 'rec.motorcycles',\n",
        " 'rec.sport.baseball',\n",
        " 'rec.sport.hockey',\n",
        " 'sci.crypt',\n",
        " 'sci.electronics',\n",
        " 'sci.med',\n",
        " 'sci.space',\n",
        " 'soc.religion.christian',\n",
        " 'talk.politics.guns',\n",
        " 'talk.politics.mideast',\n",
        " 'talk.politics.misc',\n",
        " 'talk.religion.misc']"
       ]
      }
     ],
     "prompt_number": 42
    },
    {
     "cell_type": "code",
     "collapsed": false,
     "input": [
      "len(twenty_train.data)"
     ],
     "language": "python",
     "metadata": {},
     "outputs": [
      {
       "metadata": {},
       "output_type": "pyout",
       "prompt_number": 43,
       "text": [
        "11314"
       ]
      }
     ],
     "prompt_number": 43
    },
    {
     "cell_type": "code",
     "collapsed": false,
     "input": [
      "print(\"\\n\".join(twenty_train.data[1050].split(\"\\n\")))"
     ],
     "language": "python",
     "metadata": {},
     "outputs": [
      {
       "output_type": "stream",
       "stream": "stdout",
       "text": [
        "From: mdw33310@uxa.cso.uiuc.edu (Michael D. Walker)\n",
        "Subject: Re: The doctrine of Original Sin\n",
        "Organization: University of Illinois at Urbana\n",
        "Lines: 24\n",
        "\n",
        "\n",
        "\t\n",
        "\n",
        "\tJust a quick reminder:  \n",
        "\n",
        "\tThe way you are interpreting those passages is your opinion.  You make\n",
        "\tit sound as if your opinion is somehow an undisputable fact.\n",
        "\n",
        "\tMany would interpret the passages you cite very differently.\n",
        "\n",
        "\t(Many have--several of the great theologians you mentioned do that \n",
        "\tvery thing.  These were people who had much more expertise in the\n",
        "\tinterpretation of scripture than you or me or probably anyone reading\n",
        "\tthis newsgroup.  To say that all of them are wrong and you are right\n",
        "\tis, in my opinion, (notice those last three words) coming pretty darn\n",
        "\tclose to the sin of pride.  \n",
        "\n",
        "\tIn the future I would suggest you not be so absolutist in your \n",
        "\tinterpretations, especially when contradicting highly respected\n",
        "\tdoctors of Christianity.\n",
        "\n",
        "\t\t\t\t\t- Mike Walker\n",
        "\t\t\t\t\t  mdw33310@uxa.cso.uiuc.edu\n",
        "\t\t\t\t\t  (Univ. of Illinois)\n",
        "\n"
       ]
      }
     ],
     "prompt_number": 64
    },
    {
     "cell_type": "code",
     "collapsed": false,
     "input": [
      "print(twenty_train.target_names[twenty_train.target[0]])"
     ],
     "language": "python",
     "metadata": {},
     "outputs": [
      {
       "output_type": "stream",
       "stream": "stdout",
       "text": [
        "rec.autos\n"
       ]
      }
     ],
     "prompt_number": 45
    },
    {
     "cell_type": "code",
     "collapsed": false,
     "input": [
      "twenty_train.target[:10]"
     ],
     "language": "python",
     "metadata": {},
     "outputs": [
      {
       "metadata": {},
       "output_type": "pyout",
       "prompt_number": 46,
       "text": [
        "array([ 7,  4,  4,  1, 14, 16, 13,  3,  2,  4])"
       ]
      }
     ],
     "prompt_number": 46
    },
    {
     "cell_type": "code",
     "collapsed": false,
     "input": [
      "for t in twenty_train.target[:10]:\n",
      "     print(twenty_train.target_names[t])"
     ],
     "language": "python",
     "metadata": {},
     "outputs": [
      {
       "output_type": "stream",
       "stream": "stdout",
       "text": [
        "rec.autos\n",
        "comp.sys.mac.hardware\n",
        "comp.sys.mac.hardware\n",
        "comp.graphics\n",
        "sci.space\n",
        "talk.politics.guns\n",
        "sci.med\n",
        "comp.sys.ibm.pc.hardware\n",
        "comp.os.ms-windows.misc\n",
        "comp.sys.mac.hardware\n"
       ]
      }
     ],
     "prompt_number": 47
    },
    {
     "cell_type": "code",
     "collapsed": false,
     "input": [
      "type(twenty_train)\n"
     ],
     "language": "python",
     "metadata": {},
     "outputs": [
      {
       "metadata": {},
       "output_type": "pyout",
       "prompt_number": 48,
       "text": [
        "sklearn.datasets.base.Bunch"
       ]
      }
     ],
     "prompt_number": 48
    },
    {
     "cell_type": "code",
     "collapsed": false,
     "input": [
      "from sklearn.feature_extraction.text import CountVectorizer"
     ],
     "language": "python",
     "metadata": {},
     "outputs": [],
     "prompt_number": 49
    },
    {
     "cell_type": "code",
     "collapsed": false,
     "input": [
      "count_vect = CountVectorizer()"
     ],
     "language": "python",
     "metadata": {},
     "outputs": [],
     "prompt_number": 50
    },
    {
     "cell_type": "code",
     "collapsed": false,
     "input": [
      "X_train_counts = count_vect.fit_transform(twenty_train.data)\n",
      "X_train_counts.shape"
     ],
     "language": "python",
     "metadata": {},
     "outputs": [
      {
       "metadata": {},
       "output_type": "pyout",
       "prompt_number": 51,
       "text": [
        "(11314, 130107)"
       ]
      }
     ],
     "prompt_number": 51
    },
    {
     "cell_type": "code",
     "collapsed": false,
     "input": [
      "type(count_vect)"
     ],
     "language": "python",
     "metadata": {},
     "outputs": [
      {
       "metadata": {},
       "output_type": "pyout",
       "prompt_number": 52,
       "text": [
        "sklearn.feature_extraction.text.CountVectorizer"
       ]
      }
     ],
     "prompt_number": 52
    },
    {
     "cell_type": "code",
     "collapsed": false,
     "input": [
      "type(X_train_counts)\n",
      "print(X_train_counts)\n"
     ],
     "language": "python",
     "metadata": {},
     "outputs": [
      {
       "output_type": "stream",
       "stream": "stdout",
       "text": [
        "  (0, 56979)\t3\n",
        "  (0, 75358)\t2\n",
        "  (0, 123162)\t2\n",
        "  (0, 118280)\t2\n",
        "  (0, 50527)\t2\n",
        "  (0, 124031)\t2\n",
        "  (0, 85354)\t1\n",
        "  (0, 114688)\t1\n",
        "  (0, 111322)\t1\n",
        "  (0, 123984)\t1\n",
        "  (0, 37780)\t5\n",
        "  (0, 68532)\t3\n",
        "  (0, 114731)\t5\n",
        "  (0, 87620)\t1\n",
        "  (0, 95162)\t1\n",
        "  (0, 64095)\t1\n",
        "  (0, 98949)\t1\n",
        "  (0, 90379)\t1\n",
        "  (0, 118983)\t1\n",
        "  (0, 89362)\t3\n",
        "  (0, 79666)\t1\n",
        "  (0, 40998)\t1\n",
        "  (0, 92081)\t1\n",
        "  (0, 76032)\t1\n",
        "  (0, 4605)\t1\n",
        "  :\t:\n",
        "  (11313, 110796)\t2\n",
        "  (11313, 106209)\t1\n",
        "  (11313, 31386)\t1\n",
        "  (11313, 124103)\t1\n",
        "  (11313, 116027)\t1\n",
        "  (11313, 33941)\t1\n",
        "  (11313, 107339)\t1\n",
        "  (11313, 101950)\t1\n",
        "  (11313, 109661)\t1\n",
        "  (11313, 82480)\t1\n",
        "  (11313, 38329)\t2\n",
        "  (11313, 94524)\t1\n",
        "  (11313, 27696)\t1\n",
        "  (11313, 113435)\t1\n",
        "  (11313, 82355)\t1\n",
        "  (11313, 38325)\t1\n",
        "  (11313, 94291)\t1\n",
        "  (11313, 115621)\t1\n",
        "  (11313, 75884)\t1\n",
        "  (11313, 60910)\t2\n",
        "  (11313, 72419)\t1\n",
        "  (11313, 72881)\t1\n",
        "  (11313, 70020)\t1\n",
        "  (11313, 8653)\t1\n",
        "  (11313, 124370)\t1\n"
       ]
      }
     ],
     "prompt_number": 63
    },
    {
     "cell_type": "code",
     "collapsed": false,
     "input": [
      "count_vect.vocabulary_.get(u'algorithm')"
     ],
     "language": "python",
     "metadata": {},
     "outputs": [
      {
       "metadata": {},
       "output_type": "pyout",
       "prompt_number": 54,
       "text": [
        "27366"
       ]
      }
     ],
     "prompt_number": 54
    },
    {
     "cell_type": "code",
     "collapsed": false,
     "input": [
      "from sklearn.feature_extraction.text import TfidfTransformer"
     ],
     "language": "python",
     "metadata": {},
     "outputs": [],
     "prompt_number": 55
    },
    {
     "cell_type": "code",
     "collapsed": false,
     "input": [
      "tfidf_transformer = TfidfTransformer()\n",
      "tf_transformer = TfidfTransformer(use_idf=False).fit(X_train_counts)\n",
      "X_train_tf = tf_transformer.transform(X_train_counts)\n",
      "print(X_train_tf.shape)\n",
      "\n",
      "tfidf_transformer = TfidfTransformer()\n",
      "X_train_tfidf = tfidf_transformer.fit_transform(X_train_counts)\n",
      "print(X_train_tfidf.shape)"
     ],
     "language": "python",
     "metadata": {},
     "outputs": [
      {
       "output_type": "stream",
       "stream": "stdout",
       "text": [
        "(11314, 130107)\n",
        "(11314, 130107)"
       ]
      },
      {
       "output_type": "stream",
       "stream": "stdout",
       "text": [
        "\n"
       ]
      }
     ],
     "prompt_number": 56
    },
    {
     "cell_type": "code",
     "collapsed": false,
     "input": [
      "from sklearn.naive_bayes import MultinomialNB\n",
      "clf = MultinomialNB().fit(X_train_tf, twenty_train.target)\n"
     ],
     "language": "python",
     "metadata": {},
     "outputs": [],
     "prompt_number": 58
    },
    {
     "cell_type": "code",
     "collapsed": false,
     "input": [
      "docs_new = ['God is love', 'OpenGL on the GPU is fast', 'go fuck yourself']"
     ],
     "language": "python",
     "metadata": {},
     "outputs": [],
     "prompt_number": 59
    },
    {
     "cell_type": "code",
     "collapsed": false,
     "input": [
      "X_new_counts = count_vect.transform(docs_new)\n",
      "X_new_tfidf = tfidf_transformer.transform(X_new_counts)"
     ],
     "language": "python",
     "metadata": {},
     "outputs": [],
     "prompt_number": 60
    },
    {
     "cell_type": "code",
     "collapsed": false,
     "input": [
      "predicted = clf.predict(X_new_tfidf)"
     ],
     "language": "python",
     "metadata": {},
     "outputs": [],
     "prompt_number": 61
    },
    {
     "cell_type": "code",
     "collapsed": false,
     "input": [
      "for doc, category in zip(docs_new, predicted):\n",
      "     print('%r => %s' % (doc, twenty_train.target_names[category]))"
     ],
     "language": "python",
     "metadata": {},
     "outputs": [
      {
       "output_type": "stream",
       "stream": "stdout",
       "text": [
        "'God is love' => soc.religion.christian\n",
        "'OpenGL on the GPU is fast' => rec.autos\n",
        "'go fuck yourself' => rec.motorcycles\n"
       ]
      }
     ],
     "prompt_number": 62
    },
    {
     "cell_type": "code",
     "collapsed": false,
     "input": [],
     "language": "python",
     "metadata": {},
     "outputs": [],
     "prompt_number": 144
    },
    {
     "cell_type": "code",
     "collapsed": false,
     "input": [
      "vectorizer = CountVectorizer(min_df=1)\n",
      "vectorizer"
     ],
     "language": "python",
     "metadata": {},
     "outputs": [
      {
       "metadata": {},
       "output_type": "pyout",
       "prompt_number": 37,
       "text": [
        "CountVectorizer(analyzer='word', binary=False, charset=None,\n",
        "        charset_error=None, decode_error='strict',\n",
        "        dtype=<class 'numpy.int64'>, encoding='utf-8', input='content',\n",
        "        lowercase=True, max_df=1.0, max_features=None, min_df=1,\n",
        "        ngram_range=(1, 1), preprocessor=None, stop_words=None,\n",
        "        strip_accents=None, token_pattern='(?u)\\\\b\\\\w\\\\w+\\\\b',\n",
        "        tokenizer=None, vocabulary=None)"
       ]
      }
     ],
     "prompt_number": 37
    },
    {
     "cell_type": "code",
     "collapsed": false,
     "input": [
      "corpus = [\n",
      "...     'This is the first document.',\n",
      "...     'This is the second second document.',\n",
      "...     'And the third one.',\n",
      "...     'Is this the first document?',\n",
      "... ]\n",
      "X = vectorizer.fit_transform(corpus)\n",
      "X            "
     ],
     "language": "python",
     "metadata": {},
     "outputs": [
      {
       "metadata": {},
       "output_type": "pyout",
       "prompt_number": 38,
       "text": [
        "<4x9 sparse matrix of type '<class 'numpy.int64'>'\n",
        "\twith 19 stored elements in Compressed Sparse Row format>"
       ]
      }
     ],
     "prompt_number": 38
    },
    {
     "cell_type": "code",
     "collapsed": false,
     "input": [],
     "language": "python",
     "metadata": {},
     "outputs": [],
     "prompt_number": 110
    },
    {
     "cell_type": "code",
     "collapsed": false,
     "input": [],
     "language": "python",
     "metadata": {},
     "outputs": [],
     "prompt_number": 4
    },
    {
     "cell_type": "code",
     "collapsed": false,
     "input": [],
     "language": "python",
     "metadata": {},
     "outputs": [],
     "prompt_number": 36
    },
    {
     "cell_type": "code",
     "collapsed": false,
     "input": [],
     "language": "python",
     "metadata": {},
     "outputs": [
      {
       "metadata": {},
       "output_type": "pyout",
       "prompt_number": 56,
       "text": [
        "['hour']"
       ]
      }
     ],
     "prompt_number": 56
    },
    {
     "cell_type": "code",
     "collapsed": false,
     "input": [],
     "language": "python",
     "metadata": {},
     "outputs": [],
     "prompt_number": 43
    },
    {
     "cell_type": "code",
     "collapsed": false,
     "input": [],
     "language": "python",
     "metadata": {},
     "outputs": [
      {
       "metadata": {},
       "output_type": "pyout",
       "prompt_number": 44,
       "text": [
        "array([(1, 1, 4), (1, 2, 2), (1, 3, 10), ..., (11269, 48919, 1),\n",
        "       (11269, 51544, 1), (11269, 53958, 1)], \n",
        "      dtype=[('docid', '<i2'), ('wordid', '<i4'), ('count', '<i4')])"
       ]
      }
     ],
     "prompt_number": 44
    },
    {
     "cell_type": "code",
     "collapsed": false,
     "input": [],
     "language": "python",
     "metadata": {},
     "outputs": [
      {
       "metadata": {},
       "output_type": "pyout",
       "prompt_number": 57,
       "text": [
        "array([(1, 1), (1, 2), (1, 3), ..., (11269, 48919), (11269, 51544),\n",
        "       (11269, 53958)], \n",
        "      dtype=[('docid', '<i2'), ('wordid', '<i4')])"
       ]
      }
     ],
     "prompt_number": 57
    },
    {
     "cell_type": "code",
     "collapsed": false,
     "input": [],
     "language": "python",
     "metadata": {},
     "outputs": [],
     "prompt_number": 120
    },
    {
     "cell_type": "code",
     "collapsed": false,
     "input": [],
     "language": "python",
     "metadata": {},
     "outputs": [],
     "prompt_number": 146
    },
    {
     "cell_type": "code",
     "collapsed": false,
     "input": [],
     "language": "python",
     "metadata": {},
     "outputs": [],
     "prompt_number": 146
    },
    {
     "cell_type": "code",
     "collapsed": false,
     "input": [],
     "language": "python",
     "metadata": {},
     "outputs": [],
     "prompt_number": 146
    },
    {
     "cell_type": "code",
     "collapsed": false,
     "input": [],
     "language": "python",
     "metadata": {},
     "outputs": [],
     "prompt_number": 146
    },
    {
     "cell_type": "code",
     "collapsed": false,
     "input": [],
     "language": "python",
     "metadata": {},
     "outputs": [],
     "prompt_number": 146
    },
    {
     "cell_type": "code",
     "collapsed": false,
     "input": [],
     "language": "python",
     "metadata": {},
     "outputs": [],
     "prompt_number": 146
    },
    {
     "cell_type": "code",
     "collapsed": false,
     "input": [],
     "language": "python",
     "metadata": {},
     "outputs": [],
     "prompt_number": 146
    },
    {
     "cell_type": "code",
     "collapsed": false,
     "input": [],
     "language": "python",
     "metadata": {},
     "outputs": []
    }
   ],
   "metadata": {}
  }
 ]
}