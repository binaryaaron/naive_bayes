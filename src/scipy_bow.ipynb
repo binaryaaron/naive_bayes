{
 "metadata": {
  "name": "",
  "signature": "sha256:c332508823030d33502d9414dce6dbe3326478c34bbc373ba361ea743b078d9d"
 },
 "nbformat": 3,
 "nbformat_minor": 0,
 "worksheets": [
  {
   "cells": [
    {
     "cell_type": "code",
     "collapsed": false,
     "input": [
      "from sklearn.datasets import fetch_20newsgroups\n",
      "import numpy as np\n",
      "twenty_train = fetch_20newsgroups(subset='train',\n",
      "                                  shuffle=True, random_state=42)"
     ],
     "language": "python",
     "metadata": {},
     "outputs": [],
     "prompt_number": 1
    },
    {
     "cell_type": "code",
     "collapsed": false,
     "input": [
      "twenty_train.target_names"
     ],
     "language": "python",
     "metadata": {},
     "outputs": [
      {
       "metadata": {},
       "output_type": "pyout",
       "prompt_number": 2,
       "text": [
        "['alt.atheism',\n",
        " 'comp.graphics',\n",
        " 'comp.os.ms-windows.misc',\n",
        " 'comp.sys.ibm.pc.hardware',\n",
        " 'comp.sys.mac.hardware',\n",
        " 'comp.windows.x',\n",
        " 'misc.forsale',\n",
        " 'rec.autos',\n",
        " 'rec.motorcycles',\n",
        " 'rec.sport.baseball',\n",
        " 'rec.sport.hockey',\n",
        " 'sci.crypt',\n",
        " 'sci.electronics',\n",
        " 'sci.med',\n",
        " 'sci.space',\n",
        " 'soc.religion.christian',\n",
        " 'talk.politics.guns',\n",
        " 'talk.politics.mideast',\n",
        " 'talk.politics.misc',\n",
        " 'talk.religion.misc']"
       ]
      }
     ],
     "prompt_number": 2
    },
    {
     "cell_type": "code",
     "collapsed": false,
     "input": [
      "twenty_train.target[500]"
     ],
     "language": "python",
     "metadata": {},
     "outputs": [
      {
       "metadata": {},
       "output_type": "pyout",
       "prompt_number": 3,
       "text": [
        "2"
       ]
      }
     ],
     "prompt_number": 3
    },
    {
     "cell_type": "code",
     "collapsed": false,
     "input": [
      "from sklearn.feature_extraction.text import CountVectorizer"
     ],
     "language": "python",
     "metadata": {},
     "outputs": [],
     "prompt_number": 4
    },
    {
     "cell_type": "code",
     "collapsed": false,
     "input": [
      "cv = CountVectorizer(stop_words='english')"
     ],
     "language": "python",
     "metadata": {},
     "outputs": [],
     "prompt_number": 5
    },
    {
     "cell_type": "code",
     "collapsed": false,
     "input": [
      "bow_train = cv.fit_transform(twenty_train.data)"
     ],
     "language": "python",
     "metadata": {},
     "outputs": [],
     "prompt_number": 6
    },
    {
     "cell_type": "code",
     "collapsed": true,
     "input": [
      "bow_train.shape"
     ],
     "language": "python",
     "metadata": {},
     "outputs": [
      {
       "metadata": {},
       "output_type": "pyout",
       "prompt_number": 7,
       "text": [
        "(11314, 129797)"
       ]
      }
     ],
     "prompt_number": 7
    },
    {
     "cell_type": "code",
     "collapsed": true,
     "input": [
      "print(cv.vocabulary_.get(0))"
     ],
     "language": "python",
     "metadata": {},
     "outputs": [
      {
       "output_type": "stream",
       "stream": "stdout",
       "text": [
        "None\n"
       ]
      }
     ],
     "prompt_number": 8
    },
    {
     "cell_type": "code",
     "collapsed": false,
     "input": [
      "print(bow_train[500])"
     ],
     "language": "python",
     "metadata": {},
     "outputs": [
      {
       "output_type": "stream",
       "stream": "stdout",
       "text": [
        "  (0, 111095)\t1\n",
        "  (0, 90193)\t1\n",
        "  (0, 118715)\t2\n",
        "  (0, 40939)\t2\n",
        "  (0, 75889)\t1\n",
        "  (0, 73062)\t1\n",
        "  (0, 114196)\t1\n",
        "  (0, 29543)\t1\n",
        "  (0, 48381)\t1\n",
        "  (0, 28581)\t1\n",
        "  (0, 59752)\t1\n",
        "  (0, 26295)\t1\n",
        "  (0, 119705)\t1\n",
        "  (0, 124967)\t1\n",
        "  (0, 111746)\t1\n",
        "  (0, 55217)\t1\n",
        "  (0, 2336)\t1\n",
        "  (0, 37165)\t2\n",
        "  (0, 25235)\t2\n",
        "  (0, 25515)\t2\n",
        "  (0, 113548)\t1\n",
        "  (0, 2929)\t1\n",
        "  (0, 48344)\t2\n",
        "  (0, 37514)\t1\n",
        "  (0, 81769)\t1\n",
        "  (0, 52819)\t1\n",
        "  (0, 73410)\t2\n",
        "  (0, 27252)\t2\n",
        "  (0, 6546)\t1\n",
        "  (0, 128244)\t1\n",
        "  (0, 33564)\t4\n",
        "  (0, 30351)\t4\n",
        "  (0, 103142)\t2\n",
        "  (0, 37503)\t3\n",
        "  (0, 3159)\t1\n",
        "  (0, 18560)\t1\n",
        "  (0, 124688)\t1\n",
        "  (0, 71529)\t2\n",
        "  (0, 115047)\t1\n",
        "  (0, 113013)\t1\n",
        "  (0, 110370)\t1\n",
        "  (0, 13375)\t1\n",
        "  (0, 17146)\t1\n"
       ]
      }
     ],
     "prompt_number": 9
    },
    {
     "cell_type": "code",
     "collapsed": false,
     "input": [
      "print(bow_train[500,90193])"
     ],
     "language": "python",
     "metadata": {},
     "outputs": [
      {
       "output_type": "stream",
       "stream": "stdout",
       "text": [
        "1\n"
       ]
      }
     ],
     "prompt_number": 10
    },
    {
     "cell_type": "code",
     "collapsed": false,
     "input": [
      "twenty_train.target.size"
     ],
     "language": "python",
     "metadata": {},
     "outputs": [
      {
       "metadata": {},
       "output_type": "pyout",
       "prompt_number": 11,
       "text": [
        "11314"
       ]
      }
     ],
     "prompt_number": 11
    },
    {
     "cell_type": "code",
     "collapsed": false,
     "input": [
      "class_priors = np.zeros(shape=(20,), dtype='float32')\n",
      "\n"
     ],
     "language": "python",
     "metadata": {},
     "outputs": [],
     "prompt_number": 12
    },
    {
     "cell_type": "code",
     "collapsed": false,
     "input": [
      "view = twenty_train.target[twenty_train.target == 0]\n",
      "print(view.size/twenty_train.target.size)\n"
     ],
     "language": "python",
     "metadata": {},
     "outputs": [
      {
       "output_type": "stream",
       "stream": "stdout",
       "text": [
        "0.04242531377054976\n"
       ]
      }
     ],
     "prompt_number": 13
    },
    {
     "cell_type": "code",
     "collapsed": false,
     "input": [
      "\n",
      "for idx, lab in enumerate(twenty_train.target_names):\n",
      "    view = twenty_train.target[twenty_train.target == idx]\n",
      "    class_priors[idx] = view.size/twenty_train.target.size\n",
      "    print(lab + ' ' + str(class_priors[idx]))\n"
     ],
     "language": "python",
     "metadata": {},
     "outputs": [
      {
       "output_type": "stream",
       "stream": "stdout",
       "text": [
        "alt.atheism 0.0424253\n",
        "comp.graphics 0.0516175\n",
        "comp.os.ms-windows.misc 0.0522362\n",
        "comp.sys.ibm.pc.hardware 0.0521478\n",
        "comp.sys.mac.hardware 0.0510871\n",
        "comp.windows.x 0.0524129\n",
        "misc.forsale 0.0517059\n",
        "rec.autos 0.0525013\n",
        "rec.motorcycles 0.0528549\n",
        "rec.sport.baseball 0.0527665\n",
        "rec.sport.hockey 0.0530316\n",
        "sci.crypt 0.0525897\n",
        "sci.electronics 0.0522362\n",
        "sci.med 0.0525013\n",
        "sci.space 0.0524129\n",
        "soc.religion.christian 0.0529433\n",
        "talk.politics.guns 0.0482588\n",
        "talk.politics.mideast 0.0498497\n",
        "talk.politics.misc 0.0410995\n",
        "talk.religion.misc 0.0333215\n"
       ]
      }
     ],
     "prompt_number": 14
    },
    {
     "cell_type": "code",
     "collapsed": false,
     "input": [
      "for idx, lab in enumerate(twenty_train.target_names):\n",
      "    print(lab + ' ' + str(class_priors[idx]))"
     ],
     "language": "python",
     "metadata": {},
     "outputs": [
      {
       "output_type": "stream",
       "stream": "stdout",
       "text": [
        "alt.atheism 0.0424253\n",
        "comp.graphics 0.0516175\n",
        "comp.os.ms-windows.misc 0.0522362\n",
        "comp.sys.ibm.pc.hardware 0.0521478\n",
        "comp.sys.mac.hardware 0.0510871\n",
        "comp.windows.x 0.0524129\n",
        "misc.forsale 0.0517059\n",
        "rec.autos 0.0525013\n",
        "rec.motorcycles 0.0528549\n",
        "rec.sport.baseball 0.0527665\n",
        "rec.sport.hockey 0.0530316\n",
        "sci.crypt 0.0525897\n",
        "sci.electronics 0.0522362\n",
        "sci.med 0.0525013\n",
        "sci.space 0.0524129\n",
        "soc.religion.christian 0.0529433\n",
        "talk.politics.guns 0.0482588\n",
        "talk.politics.mideast 0.0498497\n",
        "talk.politics.misc 0.0410995\n",
        "talk.religion.misc 0.0333215\n"
       ]
      }
     ],
     "prompt_number": 15
    },
    {
     "cell_type": "code",
     "collapsed": false,
     "input": [
      "np.where(class_priors > 0.04, 4, 0)"
     ],
     "language": "python",
     "metadata": {},
     "outputs": [
      {
       "metadata": {},
       "output_type": "pyout",
       "prompt_number": 16,
       "text": [
        "array([4, 4, 4, 4, 4, 4, 4, 4, 4, 4, 4, 4, 4, 4, 4, 4, 4, 4, 4, 0])"
       ]
      }
     ],
     "prompt_number": 16
    },
    {
     "cell_type": "code",
     "collapsed": false,
     "input": [
      "np.unique(bow_train[:,1])"
     ],
     "language": "python",
     "metadata": {},
     "outputs": [
      {
       "metadata": {},
       "output_type": "pyout",
       "prompt_number": 17,
       "text": [
        "array([ <11314x1 sparse matrix of type '<class 'numpy.int64'>'\n",
        "\twith 412 stored elements in Compressed Sparse Row format>], dtype=object)"
       ]
      }
     ],
     "prompt_number": 17
    },
    {
     "cell_type": "code",
     "collapsed": false,
     "input": [
      "import pandas as pd"
     ],
     "language": "python",
     "metadata": {},
     "outputs": [],
     "prompt_number": 19
    },
    {
     "cell_type": "code",
     "collapsed": false,
     "input": [
      "a = bow_train[:,0]"
     ],
     "language": "python",
     "metadata": {},
     "outputs": [],
     "prompt_number": 27
    },
    {
     "cell_type": "code",
     "collapsed": false,
     "input": [
      "a.sum()"
     ],
     "language": "python",
     "metadata": {},
     "outputs": [
      {
       "metadata": {},
       "output_type": "pyout",
       "prompt_number": 29,
       "text": [
        "1534"
       ]
      }
     ],
     "prompt_number": 29
    },
    {
     "cell_type": "code",
     "collapsed": false,
     "input": [
      "# this sums all the columns in the sparse matrix into a resulting vector\n",
      "word_sums = bow_train.sum(axis=0)"
     ],
     "language": "python",
     "metadata": {},
     "outputs": [],
     "prompt_number": 31
    },
    {
     "cell_type": "code",
     "collapsed": false,
     "input": [
      "word_sums"
     ],
     "language": "python",
     "metadata": {},
     "outputs": [
      {
       "metadata": {},
       "output_type": "pyout",
       "prompt_number": 32,
       "text": [
        "matrix([[1534,  953,    7, ...,    1,    2,    3]], dtype=int64)"
       ]
      }
     ],
     "prompt_number": 32
    },
    {
     "cell_type": "code",
     "collapsed": false,
     "input": [
      "class_mask1 = twenty_train.target == 1"
     ],
     "language": "python",
     "metadata": {},
     "outputs": [],
     "prompt_number": 37
    },
    {
     "cell_type": "code",
     "collapsed": false,
     "input": [
      "csums = bow_train[class_mask1].sum(axis=0)"
     ],
     "language": "python",
     "metadata": {},
     "outputs": [],
     "prompt_number": 39
    },
    {
     "cell_type": "code",
     "collapsed": false,
     "input": [
      "csums"
     ],
     "language": "python",
     "metadata": {},
     "outputs": [
      {
       "metadata": {},
       "output_type": "pyout",
       "prompt_number": 42,
       "text": [
        "matrix([[34, 17,  0, ...,  0,  0,  0]], dtype=int64)"
       ]
      }
     ],
     "prompt_number": 42
    },
    {
     "cell_type": "code",
     "collapsed": false,
     "input": [
      "## okay, now put it together\n",
      "\n",
      "## preallocate array, 20 row, word dic length\n",
      "phat_words = np.zeros((20, bow_train.shape[1]))\n",
      "\n",
      "## create sum vectors and assign them to the correct spot\n",
      "for idx, lab in enumerate(twenty_train.target_names):\n",
      "    c_mask = twenty_train.target == idx\n",
      "    phat_words[idx] = bow_train[c_mask].sum(axis=0)/word_sums"
     ],
     "language": "python",
     "metadata": {},
     "outputs": [],
     "prompt_number": 67
    },
    {
     "cell_type": "code",
     "collapsed": false,
     "input": [
      "np.sum(phat_words[19] > 0)"
     ],
     "language": "python",
     "metadata": {},
     "outputs": [
      {
       "metadata": {},
       "output_type": "pyout",
       "prompt_number": 70,
       "text": [
        "11617"
       ]
      }
     ],
     "prompt_number": 70
    },
    {
     "cell_type": "code",
     "collapsed": false,
     "input": [
      "# Now we have probability of the prior classes (p(c))\n",
      "\n",
      "# and p(w|c)\n",
      "\n",
      "# we need cmap"
     ],
     "language": "python",
     "metadata": {},
     "outputs": [],
     "prompt_number": 75
    },
    {
     "cell_type": "code",
     "collapsed": false,
     "input": [],
     "language": "python",
     "metadata": {},
     "outputs": []
    }
   ],
   "metadata": {}
  }
 ]
}