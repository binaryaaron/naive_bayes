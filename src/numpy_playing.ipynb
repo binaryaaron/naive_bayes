{
 "metadata": {
  "name": "",
  "signature": "sha256:0d6c09c9c47b9318f672ce524003cfb5abe9259a573cca19fc8b0bdf00480df0"
 },
 "nbformat": 3,
 "nbformat_minor": 0,
 "worksheets": [
  {
   "cells": [
    {
     "cell_type": "code",
     "collapsed": false,
     "input": [
      "import utils as utils\n",
      "import numpy as np\n",
      "import scipy as sp\n",
      "import csv\n",
      "from pprint import pprint"
     ],
     "language": "python",
     "metadata": {},
     "outputs": [],
     "prompt_number": 1
    },
    {
     "cell_type": "code",
     "collapsed": false,
     "input": [],
     "language": "python",
     "metadata": {},
     "outputs": [],
     "prompt_number": 1
    },
    {
     "cell_type": "code",
     "collapsed": false,
     "input": [
      "filename = '../data/vocabulary.txt'\n",
      "vocab = m.read_file_dict(filename)\n",
      "train_labels = m.read_file_dict(\"../data/train.label\")\n",
      "with open('../data/train.map') as mapfile:\n",
      "    reader = csv.reader(mapfile, delimiter=' ')\n",
      "    #for line in reader:\n",
      "     #   print(line)\n",
      "    label_map = {int(line[1]):line[0] for line in reader}"
     ],
     "language": "python",
     "metadata": {},
     "outputs": [],
     "prompt_number": 2
    },
    {
     "cell_type": "code",
     "collapsed": false,
     "input": [
      "# a = m.gen_agg_file(vocab, '../data/train', train_labels)\n",
      "bow = np.loadtxt('../data/train.full', dtype='int32')"
     ],
     "language": "python",
     "metadata": {},
     "outputs": [],
     "prompt_number": 3
    },
    {
     "cell_type": "code",
     "collapsed": false,
     "input": [
      "\n",
      "b = bow[bow[:,0] == 101]\n",
      "print(b.shape)\n",
      "vocab[b[30][1]]"
     ],
     "language": "python",
     "metadata": {},
     "outputs": [
      {
       "output_type": "stream",
       "stream": "stdout",
       "text": [
        "(50, 4)\n"
       ]
      },
      {
       "metadata": {},
       "output_type": "pyout",
       "prompt_number": 4,
       "text": [
        "['away']"
       ]
      }
     ],
     "prompt_number": 4
    },
    {
     "cell_type": "code",
     "collapsed": false,
     "input": [
      "def tester(vocabs, model, docid):\n",
      "    b = model[model[:,0] == docid]\n",
      "    words = [ vocabs[b[i][1]][0] for i in range(0,b.shape[0]) ] \n",
      "    return words\n"
     ],
     "language": "python",
     "metadata": {},
     "outputs": [],
     "prompt_number": 11
    },
    {
     "cell_type": "code",
     "collapsed": false,
     "input": [
      "docid = 101\n",
      "w = tester(vocab, bow, 101)\n",
      "print(w)"
     ],
     "language": "python",
     "metadata": {},
     "outputs": [
      {
       "output_type": "stream",
       "stream": "stdout",
       "text": [
        "['of', 'and', 'the', 'in', 'it', 'get', 'com', 'for', 'they', 'that', 'this', 'at', 'you', 'what', 'article', 'edu', 'writes', 'could', 'mean', 'out', 'your', 'stay', 'until', 'bobbe', 'vice', 'ico', 'tek', 'beauchaine', 'really', 'said', 'away', 'bobby', 'apr', 'sig', 'ultb', 'isc', 'rit', 'snm', 'mozumder', 'peace', 'bob', 'queens', 'blew', 'bronx', 'sank', 'manhattan', 'sea', 'hell', 'learn', 'stands']\n"
       ]
      }
     ],
     "prompt_number": 13
    },
    {
     "cell_type": "code",
     "collapsed": false,
     "input": [],
     "language": "python",
     "metadata": {},
     "outputs": [],
     "prompt_number": 13
    },
    {
     "cell_type": "code",
     "collapsed": false,
     "input": [
      "label_map[b[49][3]]"
     ],
     "language": "python",
     "metadata": {},
     "outputs": [
      {
       "metadata": {},
       "output_type": "pyout",
       "prompt_number": 14,
       "text": [
        "'alt.atheism'"
       ]
      }
     ],
     "prompt_number": 14
    },
    {
     "cell_type": "code",
     "collapsed": false,
     "input": [
      "words = m.get_words_from_doc(101, bow, vocab)"
     ],
     "language": "python",
     "metadata": {},
     "outputs": [],
     "prompt_number": 15
    },
    {
     "cell_type": "code",
     "collapsed": false,
     "input": [
      "print(words)"
     ],
     "language": "python",
     "metadata": {},
     "outputs": [
      {
       "output_type": "stream",
       "stream": "stdout",
       "text": [
        "['of', 'and', 'the', 'in', 'it', 'get', 'com', 'for', 'they', 'that', 'this', 'at', 'you', 'what', 'article', 'edu', 'writes', 'could', 'mean', 'out', 'your', 'stay', 'until', 'bobbe', 'vice', 'ico', 'tek', 'beauchaine', 'really', 'said', 'away', 'bobby', 'apr', 'sig', 'ultb', 'isc', 'rit', 'snm', 'mozumder', 'peace', 'bob', 'queens', 'blew', 'bronx', 'sank', 'manhattan', 'sea', 'hell', 'learn', 'stands']\n"
       ]
      }
     ],
     "prompt_number": 16
    },
    {
     "cell_type": "code",
     "collapsed": false,
     "input": [],
     "language": "python",
     "metadata": {},
     "outputs": [],
     "prompt_number": 16
    },
    {
     "cell_type": "code",
     "collapsed": false,
     "input": [
      "\n",
      "labels = np.zeros(docid.shape, dtype='int8')"
     ],
     "language": "python",
     "metadata": {},
     "outputs": [
      {
       "ename": "AttributeError",
       "evalue": "'int' object has no attribute 'shape'",
       "output_type": "pyerr",
       "traceback": [
        "\u001b[0;31m---------------------------------------------------------------------------\u001b[0m\n\u001b[0;31mAttributeError\u001b[0m                            Traceback (most recent call last)",
        "\u001b[0;32m<ipython-input-17-38931aafd31a>\u001b[0m in \u001b[0;36m<module>\u001b[0;34m()\u001b[0m\n\u001b[1;32m      1\u001b[0m \u001b[0;34m\u001b[0m\u001b[0m\n\u001b[0;32m----> 2\u001b[0;31m \u001b[0mlabels\u001b[0m \u001b[0;34m=\u001b[0m \u001b[0mnp\u001b[0m\u001b[0;34m.\u001b[0m\u001b[0mzeros\u001b[0m\u001b[0;34m(\u001b[0m\u001b[0mdocid\u001b[0m\u001b[0;34m.\u001b[0m\u001b[0mshape\u001b[0m\u001b[0;34m,\u001b[0m \u001b[0mdtype\u001b[0m\u001b[0;34m=\u001b[0m\u001b[0;34m'int8'\u001b[0m\u001b[0;34m)\u001b[0m\u001b[0;34m\u001b[0m\u001b[0m\n\u001b[0m",
        "\u001b[0;31mAttributeError\u001b[0m: 'int' object has no attribute 'shape'"
       ]
      }
     ],
     "prompt_number": 17
    },
    {
     "cell_type": "code",
     "collapsed": false,
     "input": [
      "for i in range(docid.size):\n",
      "    lab = docid[i]\n",
      "    labels[i] = train_labels[lab][0]"
     ],
     "language": "python",
     "metadata": {},
     "outputs": [],
     "prompt_number": 41
    },
    {
     "cell_type": "code",
     "collapsed": false,
     "input": [
      "labels\n"
     ],
     "language": "python",
     "metadata": {},
     "outputs": [
      {
       "metadata": {},
       "output_type": "pyout",
       "prompt_number": 42,
       "text": [
        "array([ 1,  1,  1, ..., 20, 20, 20], dtype=int8)"
       ]
      }
     ],
     "prompt_number": 42
    },
    {
     "cell_type": "code",
     "collapsed": false,
     "input": [
      "bow.shape"
     ],
     "language": "python",
     "metadata": {},
     "outputs": [
      {
       "metadata": {},
       "output_type": "pyout",
       "prompt_number": 11,
       "text": [
        "(1467345,)"
       ]
      }
     ],
     "prompt_number": 11
    },
    {
     "cell_type": "code",
     "collapsed": false,
     "input": [],
     "language": "python",
     "metadata": {},
     "outputs": [],
     "prompt_number": 30
    },
    {
     "cell_type": "code",
     "collapsed": false,
     "input": [
      "bow = np.column_stack((docid, wordid, count, labels))"
     ],
     "language": "python",
     "metadata": {},
     "outputs": [],
     "prompt_number": 44
    },
    {
     "cell_type": "code",
     "collapsed": false,
     "input": [
      "bow.dtype"
     ],
     "language": "python",
     "metadata": {},
     "outputs": [
      {
       "metadata": {},
       "output_type": "pyout",
       "prompt_number": 45,
       "text": [
        "dtype('int32')"
       ]
      }
     ],
     "prompt_number": 45
    },
    {
     "cell_type": "code",
     "collapsed": false,
     "input": [
      "bow"
     ],
     "language": "python",
     "metadata": {},
     "outputs": [
      {
       "metadata": {},
       "output_type": "pyout",
       "prompt_number": 18,
       "text": [
        "array([[    1,     1,     4,     1],\n",
        "       [    1,     2,     2,     1],\n",
        "       [    1,     3,    10,     1],\n",
        "       ..., \n",
        "       [11269, 48919,     1,    20],\n",
        "       [11269, 51544,     1,    20],\n",
        "       [11269, 53958,     1,    20]], dtype=int32)"
       ]
      }
     ],
     "prompt_number": 18
    },
    {
     "cell_type": "code",
     "collapsed": false,
     "input": [
      "bow[:,0]"
     ],
     "language": "python",
     "metadata": {},
     "outputs": [
      {
       "metadata": {},
       "output_type": "pyout",
       "prompt_number": 19,
       "text": [
        "array([    1,     1,     1, ..., 11269, 11269, 11269], dtype=int32)"
       ]
      }
     ],
     "prompt_number": 19
    },
    {
     "cell_type": "code",
     "collapsed": false,
     "input": [
      "train_data = np.loadtxt('../data/train.full', dtype='uint16', )"
     ],
     "language": "python",
     "metadata": {},
     "outputs": [],
     "prompt_number": 3
    },
    {
     "cell_type": "code",
     "collapsed": false,
     "input": [
      "train_vocab = utils.read_file_dict('../data/vocabulary.txt')"
     ],
     "language": "python",
     "metadata": {},
     "outputs": [],
     "prompt_number": 2
    },
    {
     "cell_type": "code",
     "collapsed": false,
     "input": [],
     "language": "python",
     "metadata": {},
     "outputs": [],
     "prompt_number": 3
    },
    {
     "cell_type": "code",
     "collapsed": false,
     "input": [
      "label_map = utils.read_mapfile('../data/train.map')"
     ],
     "language": "python",
     "metadata": {},
     "outputs": [],
     "prompt_number": 4
    },
    {
     "cell_type": "code",
     "collapsed": false,
     "input": [
      "train_data"
     ],
     "language": "python",
     "metadata": {},
     "outputs": [
      {
       "metadata": {},
       "output_type": "pyout",
       "prompt_number": 6,
       "text": [
        "array([[    1,     1,     4,     1],\n",
        "       [    1,     2,     2,     1],\n",
        "       [    1,     3,    10,     1],\n",
        "       ..., \n",
        "       [11269, 48919,     1,    20],\n",
        "       [11269, 51544,     1,    20],\n",
        "       [11269, 53958,     1,    20]], dtype=uint16)"
       ]
      }
     ],
     "prompt_number": 6
    },
    {
     "cell_type": "code",
     "collapsed": false,
     "input": [],
     "language": "python",
     "metadata": {},
     "outputs": [
      {
       "metadata": {},
       "output_type": "pyout",
       "prompt_number": 7,
       "text": [
        "65535"
       ]
      }
     ],
     "prompt_number": 7
    },
    {
     "cell_type": "code",
     "collapsed": false,
     "input": [
      "\n",
      "train_prior = {}\n",
      "vec = train_data[:,3]\n",
      "\n",
      "    "
     ],
     "language": "python",
     "metadata": {},
     "outputs": [],
     "prompt_number": 5
    },
    {
     "cell_type": "code",
     "collapsed": false,
     "input": [
      "for i in range(1,21):\n",
      "    view = vec[vec == i]\n",
      "    train_prior[label_map[i]] = view.size/vec.size"
     ],
     "language": "python",
     "metadata": {},
     "outputs": []
    },
    {
     "cell_type": "code",
     "collapsed": false,
     "input": [
      "print(train_data.size)\n",
      "pprint(train_prior)"
     ],
     "language": "python",
     "metadata": {},
     "outputs": [
      {
       "output_type": "stream",
       "stream": "stdout",
       "text": [
        "5869380\n",
        "{'alt.atheism': 0.04973472496243215,\n",
        " 'comp.graphics': 0.03984884263755286,\n",
        " 'comp.os.ms-windows.misc': 0.03736203823913258,\n",
        " 'comp.sys.ibm.pc.hardware': 0.03930364024820339,\n",
        " 'comp.sys.mac.hardware': 0.03619734963488477,\n",
        " 'comp.windows.x': 0.04659572220575257,\n",
        " 'misc.forsale': 0.028811220265172813,\n",
        " 'rec.autos': 0.04723224599531808,\n",
        " 'rec.motorcycles': 0.045334941680381914,\n",
        " 'rec.sport.baseball': 0.044625497071240916,\n",
        " 'rec.sport.hockey': 0.0525384282496618,\n",
        " 'sci.crypt': 0.06796152234137166,\n",
        " 'sci.electronics': 0.041876995525932895,\n",
        " 'sci.med': 0.058204444080976185,\n",
        " 'sci.space': 0.057467739352367715,\n",
        " 'soc.religion.christian': 0.06856397098160283,\n",
        " 'talk.politics.guns': 0.06309968003434775,\n",
        " 'talk.politics.mideast': 0.0772333704752461,\n",
        " 'talk.politics.misc': 0.05740981159849933,\n",
        " 'talk.religion.misc': 0.0405978144199217}\n"
       ]
      }
     ],
     "prompt_number": 35
    },
    {
     "cell_type": "code",
     "collapsed": false,
     "input": [
      "train_priors2 = utils.estimate_priors(label_map, vec)\n",
      "pprint(train_priors2)"
     ],
     "language": "python",
     "metadata": {},
     "outputs": [
      {
       "output_type": "stream",
       "stream": "stdout",
       "text": [
        "{'alt.atheism': 0.04973472496243215,\n",
        " 'comp.graphics': 0.03984884263755286,\n",
        " 'comp.os.ms-windows.misc': 0.03736203823913258,\n",
        " 'comp.sys.ibm.pc.hardware': 0.03930364024820339,\n",
        " 'comp.sys.mac.hardware': 0.03619734963488477,\n",
        " 'comp.windows.x': 0.04659572220575257,\n",
        " 'misc.forsale': 0.028811220265172813,\n",
        " 'rec.autos': 0.04723224599531808,\n",
        " 'rec.motorcycles': 0.045334941680381914,\n",
        " 'rec.sport.baseball': 0.044625497071240916,\n",
        " 'rec.sport.hockey': 0.0525384282496618,\n",
        " 'sci.crypt': 0.06796152234137166,\n",
        " 'sci.electronics': 0.041876995525932895,\n",
        " 'sci.med': 0.058204444080976185,\n",
        " 'sci.space': 0.057467739352367715,\n",
        " 'soc.religion.christian': 0.06856397098160283,\n",
        " 'talk.politics.guns': 0.06309968003434775,\n",
        " 'talk.politics.mideast': 0.0772333704752461,\n",
        " 'talk.politics.misc': 0.05740981159849933,\n",
        " 'talk.religion.misc': 0.0405978144199217}\n"
       ]
      }
     ],
     "prompt_number": 6
    },
    {
     "cell_type": "code",
     "collapsed": false,
     "input": [
      "vec.shape"
     ],
     "language": "python",
     "metadata": {},
     "outputs": [
      {
       "metadata": {},
       "output_type": "pyout",
       "prompt_number": 14,
       "text": [
        "(1467345,)"
       ]
      }
     ],
     "prompt_number": 14
    },
    {
     "cell_type": "code",
     "collapsed": false,
     "input": [
      "t = train_data[train_data[:, 0] == 900]\n",
      "d = train_data[train_data[:, 0] == 1010]"
     ],
     "language": "python",
     "metadata": {},
     "outputs": [],
     "prompt_number": 35
    },
    {
     "cell_type": "code",
     "collapsed": false,
     "input": [
      "t.size\n"
     ],
     "language": "python",
     "metadata": {},
     "outputs": [
      {
       "metadata": {},
       "output_type": "pyout",
       "prompt_number": 36,
       "text": [
        "128"
       ]
      }
     ],
     "prompt_number": 36
    },
    {
     "cell_type": "code",
     "collapsed": false,
     "input": [
      "d.size"
     ],
     "language": "python",
     "metadata": {},
     "outputs": [
      {
       "metadata": {},
       "output_type": "pyout",
       "prompt_number": 37,
       "text": [
        "440"
       ]
      }
     ],
     "prompt_number": 37
    },
    {
     "cell_type": "code",
     "collapsed": false,
     "input": [
      "# this doc is weird\n",
      "utils.get_words_from_doc(9946, train_data, train_vocab)"
     ],
     "language": "python",
     "metadata": {},
     "outputs": [
      {
       "metadata": {},
       "output_type": "pyout",
       "prompt_number": 38,
       "text": [
        "['last',\n",
        " 'of',\n",
        " 'from',\n",
        " 'and',\n",
        " 'other',\n",
        " 'are',\n",
        " 'the',\n",
        " 'in',\n",
        " 'us',\n",
        " 'to',\n",
        " 'it',\n",
        " 'like',\n",
        " 'on',\n",
        " 'their',\n",
        " 'but',\n",
        " 'with',\n",
        " 'written',\n",
        " 'is',\n",
        " 'people',\n",
        " 'can',\n",
        " 'try',\n",
        " 'com',\n",
        " 'for',\n",
        " 'who',\n",
        " 'go',\n",
        " 'price',\n",
        " 'so',\n",
        " 'one',\n",
        " 'such',\n",
        " 'by',\n",
        " 'or',\n",
        " 'an',\n",
        " 'may',\n",
        " 'be',\n",
        " 'older',\n",
        " 'they',\n",
        " 'south',\n",
        " 'place',\n",
        " 'that',\n",
        " 'all',\n",
        " 'any',\n",
        " 'well',\n",
        " 'this',\n",
        " 'lives',\n",
        " 'set',\n",
        " 'at',\n",
        " 'very',\n",
        " 'about',\n",
        " 'truth',\n",
        " 'rather',\n",
        " 'than',\n",
        " 'often',\n",
        " 'some',\n",
        " 'women',\n",
        " 'remote',\n",
        " 'demand',\n",
        " 'death',\n",
        " 'its',\n",
        " 'after',\n",
        " 'reality',\n",
        " 'into',\n",
        " 'young',\n",
        " 'as',\n",
        " 'right',\n",
        " 'under',\n",
        " 'own',\n",
        " 'only',\n",
        " 'old',\n",
        " 'first',\n",
        " 'more',\n",
        " 'work',\n",
        " 'has',\n",
        " 'if',\n",
        " 'you',\n",
        " 'know',\n",
        " 'what',\n",
        " 'make',\n",
        " 'sure',\n",
        " 'seems',\n",
        " 'even',\n",
        " 'etc',\n",
        " 'die',\n",
        " 'great',\n",
        " 'most',\n",
        " 'case',\n",
        " 'against',\n",
        " 'comprehensive',\n",
        " 'best',\n",
        " 'way',\n",
        " 'view',\n",
        " 'kind',\n",
        " 'statements',\n",
        " 'men',\n",
        " 'was',\n",
        " 'were',\n",
        " 'moral',\n",
        " 'those',\n",
        " 'concept',\n",
        " 'better',\n",
        " 'hand',\n",
        " 'murder',\n",
        " 'not',\n",
        " 'there',\n",
        " 'small',\n",
        " 'information',\n",
        " 'will',\n",
        " 'back',\n",
        " 'article',\n",
        " 'writes',\n",
        " 'answering',\n",
        " 'our',\n",
        " 'questions',\n",
        " 'question',\n",
        " 'could',\n",
        " 'resulted',\n",
        " 'we',\n",
        " 'did',\n",
        " 'these',\n",
        " 'just',\n",
        " 'much',\n",
        " 'nothing',\n",
        " 'me',\n",
        " 'do',\n",
        " 'called',\n",
        " 'no',\n",
        " 'since',\n",
        " 'deal',\n",
        " 'up',\n",
        " 'yes',\n",
        " 'now',\n",
        " 'have',\n",
        " 'little',\n",
        " 'asking',\n",
        " 'should',\n",
        " 'end',\n",
        " 'killing',\n",
        " 'innocent',\n",
        " 'your',\n",
        " 'claim',\n",
        " 'wrong',\n",
        " 'want',\n",
        " 'fine',\n",
        " 'every',\n",
        " 'am',\n",
        " 'between',\n",
        " 'say',\n",
        " 'my',\n",
        " 'would',\n",
        " 'answer',\n",
        " 'before',\n",
        " 'where',\n",
        " 'years',\n",
        " 'specifically',\n",
        " 'too',\n",
        " 'until',\n",
        " 'going',\n",
        " 'killed',\n",
        " 'result',\n",
        " 'kill',\n",
        " 'taking',\n",
        " 'situation',\n",
        " 'either',\n",
        " 'myself',\n",
        " 'bit',\n",
        " 'usually',\n",
        " 'solely',\n",
        " 'necessary',\n",
        " 'similar',\n",
        " 'really',\n",
        " 'once',\n",
        " 'irrelevant',\n",
        " 'concerned',\n",
        " 'blood',\n",
        " 'others',\n",
        " 'members',\n",
        " 'accept',\n",
        " 'circumstances',\n",
        " 'time',\n",
        " 'issue',\n",
        " 'though',\n",
        " 'able',\n",
        " 'yourself',\n",
        " 'fact',\n",
        " 'free',\n",
        " 'matter',\n",
        " 'opinion',\n",
        " 're',\n",
        " 'allow',\n",
        " 'cannot',\n",
        " 'important',\n",
        " 'realize',\n",
        " 'hope',\n",
        " 'maybe',\n",
        " 'along',\n",
        " 'ask',\n",
        " 'agree',\n",
        " 'interested',\n",
        " 'bad',\n",
        " 'problem',\n",
        " 'act',\n",
        " 'real',\n",
        " 'attacks',\n",
        " 'occurs',\n",
        " 'consider',\n",
        " 'cold',\n",
        " 'come',\n",
        " 'policy',\n",
        " 'feel',\n",
        " 'telling',\n",
        " 'basis',\n",
        " 'far',\n",
        " 'home',\n",
        " 'imagine',\n",
        " 'caused',\n",
        " 'troops',\n",
        " 'happened',\n",
        " 'apr',\n",
        " 'give',\n",
        " 'strikes',\n",
        " 'thread',\n",
        " 'removal',\n",
        " 'hard',\n",
        " 'government',\n",
        " 'already',\n",
        " 'figure',\n",
        " 'talks',\n",
        " 'soldiers',\n",
        " 'fields',\n",
        " 'jews',\n",
        " 'failed',\n",
        " 'stop',\n",
        " 'supported',\n",
        " 'accurate',\n",
        " 'conclusion',\n",
        " 'pay',\n",
        " 'year',\n",
        " 'public',\n",
        " 'finding',\n",
        " 'force',\n",
        " 'responsible',\n",
        " 'newsgroup',\n",
        " 'advance',\n",
        " 'attacked',\n",
        " 'bunch',\n",
        " 'controlling',\n",
        " 'business',\n",
        " 'heavy',\n",
        " 'save',\n",
        " 'nobody',\n",
        " 'wants',\n",
        " 'comments',\n",
        " 'coffee',\n",
        " 'drink',\n",
        " 'hold',\n",
        " 'pressure',\n",
        " 'ignorant',\n",
        " 'peace',\n",
        " 'candidate',\n",
        " 'proven',\n",
        " 'cities',\n",
        " 'whereby',\n",
        " 'communities',\n",
        " 'terrorism',\n",
        " 'deaths',\n",
        " 'side',\n",
        " 'knows',\n",
        " 'three',\n",
        " 'compare',\n",
        " 'solution',\n",
        " 'playing',\n",
        " 'image',\n",
        " 'shell',\n",
        " 'parts',\n",
        " 'occasional',\n",
        " 'protection',\n",
        " 'ground',\n",
        " 'proper',\n",
        " 'hearted',\n",
        " 'efforts',\n",
        " 'addressed',\n",
        " 'kids',\n",
        " 'summer',\n",
        " 'camp',\n",
        " 'streets',\n",
        " 'militarily',\n",
        " 'unilaterally',\n",
        " 'move',\n",
        " 'israel',\n",
        " 'girl',\n",
        " 'protect',\n",
        " 'picture',\n",
        " 'capable',\n",
        " 'land',\n",
        " 'israeli',\n",
        " 'offered',\n",
        " 'iran',\n",
        " 'camps',\n",
        " 'borders',\n",
        " 'keeping',\n",
        " 'bomb',\n",
        " 'protecting',\n",
        " 'feeling',\n",
        " 'announce',\n",
        " 'daily',\n",
        " 'st',\n",
        " 'warn',\n",
        " 'quarrel',\n",
        " 'hurt',\n",
        " 'cards',\n",
        " 'gonna',\n",
        " 'resistance',\n",
        " 'occupation',\n",
        " 'civilians',\n",
        " 'attacking',\n",
        " 'terrorist',\n",
        " 'exercise',\n",
        " 'qualified',\n",
        " 'incentive',\n",
        " 'filled',\n",
        " 'bombs',\n",
        " 'security',\n",
        " 'choosing',\n",
        " 'civilian',\n",
        " 'bombing',\n",
        " 'bombed',\n",
        " 'lift',\n",
        " 'suspect',\n",
        " 'receiving',\n",
        " 'injured',\n",
        " 'lunch',\n",
        " 'insists',\n",
        " 'regular',\n",
        " 'aimed',\n",
        " 'northern',\n",
        " 'misinformation',\n",
        " 'southern',\n",
        " 'border',\n",
        " 'buffer',\n",
        " 'colored',\n",
        " 'unocal',\n",
        " 'edge',\n",
        " 'heavily',\n",
        " 'paint',\n",
        " 'arms',\n",
        " 'realistic',\n",
        " 'rightly',\n",
        " 'establishment',\n",
        " 'toll',\n",
        " 'genuinely',\n",
        " 'shop',\n",
        " 'preparing',\n",
        " 'soccer',\n",
        " 'traps',\n",
        " 'munich',\n",
        " 'zone',\n",
        " 'occupied',\n",
        " 'shops',\n",
        " 'insure',\n",
        " 'hurting',\n",
        " 'village',\n",
        " 'brave',\n",
        " 'soldier',\n",
        " 'aged',\n",
        " 'tactics',\n",
        " 'eliminating',\n",
        " 'pilots',\n",
        " 'condone',\n",
        " 'justifies',\n",
        " 'patrol',\n",
        " 'accustomed',\n",
        " 'financially',\n",
        " 'settlement',\n",
        " 'leverage',\n",
        " 'athletes',\n",
        " 'secretive',\n",
        " 'withdraw',\n",
        " 'sneak',\n",
        " 'shelled',\n",
        " 'concessions',\n",
        " 'basil',\n",
        " 'terrorists',\n",
        " 'abroad',\n",
        " 'disarmed',\n",
        " 'withdrawal',\n",
        " 'militias',\n",
        " 'disarming',\n",
        " 'inhabitants',\n",
        " 'occupying',\n",
        " 'indiscriminate',\n",
        " 'lebanon',\n",
        " 'diverting',\n",
        " 'stationed',\n",
        " 'villages',\n",
        " 'indiscriminately',\n",
        " 'ammunitions',\n",
        " 'israelis',\n",
        " 'dorin',\n",
        " 'stssdxb',\n",
        " 'baru',\n",
        " 'negociations',\n",
        " 'syrian',\n",
        " 'lebanese',\n",
        " 'shelling',\n",
        " 'iraelis',\n",
        " 'booby',\n",
        " 'terrritory',\n",
        " 'disingeneous',\n",
        " 'mrder',\n",
        " 'coffe',\n",
        " 'patrols',\n",
        " 'retalliates',\n",
        " 'hideout',\n",
        " 'villagers',\n",
        " 'retalliation',\n",
        " 'withdraws',\n",
        " 'hizbollah',\n",
        " 'goovernment',\n",
        " 'isareli']"
       ]
      }
     ],
     "prompt_number": 38
    },
    {
     "cell_type": "code",
     "collapsed": false,
     "input": [],
     "language": "python",
     "metadata": {},
     "outputs": []
    }
   ],
   "metadata": {}
  }
 ]
}