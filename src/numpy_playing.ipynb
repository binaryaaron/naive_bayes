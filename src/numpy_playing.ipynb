{
 "metadata": {
  "name": ""
 },
 "nbformat": 3,
 "nbformat_minor": 0,
 "worksheets": [
  {
   "cells": [
    {
     "cell_type": "code",
     "collapsed": false,
     "input": [
      "import main as m\n",
      "import numpy as np\n",
      "import scipy as sp\n",
      "import csv\n",
      "from pprint import pprint"
     ],
     "language": "python",
     "metadata": {},
     "outputs": [],
     "prompt_number": 1
    },
    {
     "cell_type": "code",
     "collapsed": false,
     "input": [],
     "language": "python",
     "metadata": {},
     "outputs": [],
     "prompt_number": 2
    },
    {
     "cell_type": "code",
     "collapsed": false,
     "input": [
      "filename = '../data/vocabulary.txt'\n",
      "vocab = m.read_file_dict(filename)\n",
      "train_labels = m.read_file_dict(\"../data/train.label\")\n",
      "with open('../data/train.map') as mapfile:\n",
      "    reader = csv.reader(mapfile, delimiter=' ')\n",
      "    #for line in reader:\n",
      "     #   print(line)\n",
      "    label_map = {int(line[1]):line[0] for line in reader}"
     ],
     "language": "python",
     "metadata": {},
     "outputs": [],
     "prompt_number": 2
    },
    {
     "cell_type": "code",
     "collapsed": false,
     "input": [
      "# a = m.gen_agg_file(vocab, '../data/train', train_labels)\n",
      "bow = np.loadtxt('../data/train.full', dtype='int32')"
     ],
     "language": "python",
     "metadata": {},
     "outputs": [],
     "prompt_number": 3
    },
    {
     "cell_type": "code",
     "collapsed": false,
     "input": [
      "\n",
      "b = bow[bow[:,0] == 101]\n",
      "print(b.shape)\n",
      "vocab[b[30][1]]"
     ],
     "language": "python",
     "metadata": {},
     "outputs": [
      {
       "output_type": "stream",
       "stream": "stdout",
       "text": [
        "(50, 4)\n"
       ]
      },
      {
       "metadata": {},
       "output_type": "pyout",
       "prompt_number": 4,
       "text": [
        "['away']"
       ]
      }
     ],
     "prompt_number": 4
    },
    {
     "cell_type": "code",
     "collapsed": false,
     "input": [
      "def tester(vocabs, model, docid):\n",
      "    b = model[model[:,0] == docid]\n",
      "    words = [ vocabs[b[i][1]][0] for i in range(0,b.shape[0]) ] \n",
      "    return words\n"
     ],
     "language": "python",
     "metadata": {},
     "outputs": [],
     "prompt_number": 7
    },
    {
     "cell_type": "code",
     "collapsed": false,
     "input": [
      "w = tester(vocab, bow, 101)\n",
      "print(w)"
     ],
     "language": "python",
     "metadata": {},
     "outputs": [
      {
       "output_type": "stream",
       "stream": "stdout",
       "text": [
        "['of', 'and', 'the', 'in', 'it', 'get', 'com', 'for', 'they', 'that', 'this', 'at', 'you', 'what', 'article', 'edu', 'writes', 'could', 'mean', 'out', 'your', 'stay', 'until', 'bobbe', 'vice', 'ico', 'tek', 'beauchaine', 'really', 'said', 'away', 'bobby', 'apr', 'sig', 'ultb', 'isc', 'rit', 'snm', 'mozumder', 'peace', 'bob', 'queens', 'blew', 'bronx', 'sank', 'manhattan', 'sea', 'hell', 'learn', 'stands']\n"
       ]
      }
     ],
     "prompt_number": 9
    },
    {
     "cell_type": "code",
     "collapsed": false,
     "input": [],
     "language": "python",
     "metadata": {},
     "outputs": [
      {
       "output_type": "stream",
       "stream": "stdout",
       "text": [
        "['of', 'and', 'the', 'in', 'it', 'get', 'com', 'for', 'they', 'that', 'this', 'at', 'you', 'what', 'article', 'edu', 'writes', 'could', 'mean', 'out', 'your', 'stay', 'until', 'bobbe', 'vice', 'ico', 'tek', 'beauchaine', 'really', 'said', 'away', 'bobby', 'apr', 'sig', 'ultb', 'isc', 'rit', 'snm', 'mozumder', 'peace', 'bob', 'queens', 'blew', 'bronx', 'sank', 'manhattan', 'sea', 'hell', 'learn', 'stands']\n"
       ]
      }
     ],
     "prompt_number": 6
    },
    {
     "cell_type": "code",
     "collapsed": false,
     "input": [
      "label_map[b[49][3]]"
     ],
     "language": "python",
     "metadata": {},
     "outputs": [
      {
       "metadata": {},
       "output_type": "pyout",
       "prompt_number": 103,
       "text": [
        "'alt.atheism'"
       ]
      }
     ],
     "prompt_number": 103
    },
    {
     "cell_type": "code",
     "collapsed": false,
     "input": [
      "words = m.get_words_from_doc(101, bow, vocab)"
     ],
     "language": "python",
     "metadata": {},
     "outputs": [],
     "prompt_number": 13
    },
    {
     "cell_type": "code",
     "collapsed": false,
     "input": [
      "print(words)"
     ],
     "language": "python",
     "metadata": {},
     "outputs": [
      {
       "output_type": "stream",
       "stream": "stdout",
       "text": [
        "['of', 'and', 'the', 'in', 'it', 'get', 'com', 'for', 'they', 'that', 'this', 'at', 'you', 'what', 'article', 'edu', 'writes', 'could', 'mean', 'out', 'your', 'stay', 'until', 'bobbe', 'vice', 'ico', 'tek', 'beauchaine', 'really', 'said', 'away', 'bobby', 'apr', 'sig', 'ultb', 'isc', 'rit', 'snm', 'mozumder', 'peace', 'bob', 'queens', 'blew', 'bronx', 'sank', 'manhattan', 'sea', 'hell', 'learn', 'stands']\n"
       ]
      }
     ],
     "prompt_number": 14
    },
    {
     "cell_type": "code",
     "collapsed": false,
     "input": [],
     "language": "python",
     "metadata": {},
     "outputs": [],
     "prompt_number": 34
    },
    {
     "cell_type": "code",
     "collapsed": false,
     "input": [
      "\n",
      "labels = np.zeros(docid.shape, dtype='int8')"
     ],
     "language": "python",
     "metadata": {},
     "outputs": [],
     "prompt_number": 36
    },
    {
     "cell_type": "code",
     "collapsed": false,
     "input": [
      "for i in range(docid.size):\n",
      "    lab = docid[i]\n",
      "    labels[i] = train_labels[lab][0]"
     ],
     "language": "python",
     "metadata": {},
     "outputs": [],
     "prompt_number": 41
    },
    {
     "cell_type": "code",
     "collapsed": false,
     "input": [
      "labels\n"
     ],
     "language": "python",
     "metadata": {},
     "outputs": [
      {
       "metadata": {},
       "output_type": "pyout",
       "prompt_number": 42,
       "text": [
        "array([ 1,  1,  1, ..., 20, 20, 20], dtype=int8)"
       ]
      }
     ],
     "prompt_number": 42
    },
    {
     "cell_type": "code",
     "collapsed": false,
     "input": [
      "bow.shape"
     ],
     "language": "python",
     "metadata": {},
     "outputs": [
      {
       "metadata": {},
       "output_type": "pyout",
       "prompt_number": 11,
       "text": [
        "(1467345,)"
       ]
      }
     ],
     "prompt_number": 11
    },
    {
     "cell_type": "code",
     "collapsed": false,
     "input": [],
     "language": "python",
     "metadata": {},
     "outputs": [],
     "prompt_number": 30
    },
    {
     "cell_type": "code",
     "collapsed": false,
     "input": [
      "bow = np.column_stack((docid, wordid, count, labels))"
     ],
     "language": "python",
     "metadata": {},
     "outputs": [],
     "prompt_number": 44
    },
    {
     "cell_type": "code",
     "collapsed": false,
     "input": [
      "bow.dtype"
     ],
     "language": "python",
     "metadata": {},
     "outputs": [
      {
       "metadata": {},
       "output_type": "pyout",
       "prompt_number": 45,
       "text": [
        "dtype('int32')"
       ]
      }
     ],
     "prompt_number": 45
    },
    {
     "cell_type": "code",
     "collapsed": false,
     "input": [
      "bow"
     ],
     "language": "python",
     "metadata": {},
     "outputs": [
      {
       "metadata": {},
       "output_type": "pyout",
       "prompt_number": 46,
       "text": [
        "array([[    1,     1,     4,     1],\n",
        "       [    1,     2,     2,     1],\n",
        "       [    1,     3,    10,     1],\n",
        "       ..., \n",
        "       [11269, 48919,     1,    20],\n",
        "       [11269, 51544,     1,    20],\n",
        "       [11269, 53958,     1,    20]], dtype=int32)"
       ]
      }
     ],
     "prompt_number": 46
    },
    {
     "cell_type": "code",
     "collapsed": false,
     "input": [
      "bow[:,0]"
     ],
     "language": "python",
     "metadata": {},
     "outputs": [
      {
       "metadata": {},
       "output_type": "pyout",
       "prompt_number": 50,
       "text": [
        "array([    1,     1,     1, ..., 11269, 11269, 11269], dtype=int32)"
       ]
      }
     ],
     "prompt_number": 50
    },
    {
     "cell_type": "code",
     "collapsed": false,
     "input": [],
     "language": "python",
     "metadata": {},
     "outputs": []
    }
   ],
   "metadata": {}
  }
 ]
}